{
 "cells": [
  {
   "cell_type": "code",
   "execution_count": 5,
   "metadata": {},
   "outputs": [
    {
     "name": "stdout",
     "output_type": "stream",
     "text": [
      "Collecting pytrends\n",
      "  Using cached https://files.pythonhosted.org/packages/96/53/a4a74c33bfdbe1740183e00769377352072e64182913562daf9f5e4f1938/pytrends-4.7.3-py3-none-any.whl\n",
      "Requirement already satisfied: lxml in c:\\programdata\\miniconda\\lib\\site-packages (from pytrends) (4.5.0)\n",
      "Requirement already satisfied: pandas>=0.25 in c:\\programdata\\miniconda\\lib\\site-packages (from pytrends) (0.25.3)\n",
      "Requirement already satisfied: requests in c:\\programdata\\miniconda\\lib\\site-packages (from pytrends) (2.22.0)\n",
      "Requirement already satisfied: numpy>=1.13.3 in c:\\programdata\\miniconda\\lib\\site-packages (from pandas>=0.25->pytrends) (1.17.3)\n",
      "Requirement already satisfied: python-dateutil>=2.6.1 in c:\\programdata\\miniconda\\lib\\site-packages (from pandas>=0.25->pytrends) (2.8.0)\n",
      "Requirement already satisfied: pytz>=2017.2 in c:\\users\\dis\\appdata\\roaming\\python\\python37\\site-packages (from pandas>=0.25->pytrends) (2020.4)\n",
      "Requirement already satisfied: urllib3!=1.25.0,!=1.25.1,<1.26,>=1.21.1 in c:\\programdata\\miniconda\\lib\\site-packages (from requests->pytrends) (1.24.2)\n",
      "Requirement already satisfied: chardet<3.1.0,>=3.0.2 in c:\\programdata\\miniconda\\lib\\site-packages (from requests->pytrends) (3.0.4)\n",
      "Requirement already satisfied: idna<2.9,>=2.5 in c:\\programdata\\miniconda\\lib\\site-packages (from requests->pytrends) (2.8)\n",
      "Requirement already satisfied: certifi>=2017.4.17 in c:\\users\\dis\\appdata\\roaming\\python\\python37\\site-packages (from requests->pytrends) (2020.11.8)\n",
      "Requirement already satisfied: six>=1.5 in c:\\users\\dis\\appdata\\roaming\\python\\python37\\site-packages (from python-dateutil>=2.6.1->pandas>=0.25->pytrends) (1.15.0)\n",
      "Installing collected packages: pytrends\n",
      "Successfully installed pytrends-4.7.3\n",
      "Note: you may need to restart the kernel to use updated packages.\n"
     ]
    }
   ],
   "source": [
    "pip install pytrends"
   ]
  },
  {
   "cell_type": "code",
   "execution_count": 7,
   "metadata": {},
   "outputs": [],
   "source": [
    "from pytrends.request import TrendReq"
   ]
  },
  {
   "cell_type": "code",
   "execution_count": 9,
   "metadata": {},
   "outputs": [],
   "source": [
    "#menghubungkan ke google\n",
    "pytrends = TrendReq(hl='id', tz=420)"
   ]
  },
  {
   "cell_type": "code",
   "execution_count": null,
   "metadata": {},
   "outputs": [],
   "source": []
  }
 ],
 "metadata": {
  "kernelspec": {
   "display_name": "Python 3",
   "language": "python",
   "name": "python3"
  },
  "language_info": {
   "codemirror_mode": {
    "name": "ipython",
    "version": 3
   },
   "file_extension": ".py",
   "mimetype": "text/x-python",
   "name": "python",
   "nbconvert_exporter": "python",
   "pygments_lexer": "ipython3",
   "version": "3.7.4"
  }
 },
 "nbformat": 4,
 "nbformat_minor": 4
}
